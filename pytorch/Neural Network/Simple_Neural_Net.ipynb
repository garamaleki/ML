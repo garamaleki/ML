{
  "nbformat": 4,
  "nbformat_minor": 0,
  "metadata": {
    "colab": {
      "name": "Simple Neural Net.ipynb",
      "version": "0.3.2",
      "provenance": []
    },
    "kernelspec": {
      "name": "python3",
      "display_name": "Python 3"
    }
  },
  "cells": [
    {
      "cell_type": "code",
      "metadata": {
        "id": "xdbSKkyySUZb",
        "colab_type": "code",
        "colab": {}
      },
      "source": [
        "import torch\n",
        "import torch.nn as nn\n",
        "import sklearn.datasets\n",
        "import numpy as np\n",
        "import matplotlib.pyplot as plt"
      ],
      "execution_count": 0,
      "outputs": []
    },
    {
      "cell_type": "code",
      "metadata": {
        "id": "97s7EDpJSh6C",
        "colab_type": "code",
        "outputId": "c4cfa3e2-c3b9-4c5b-9a1b-15334a83df7d",
        "colab": {
          "base_uri": "https://localhost:8080/",
          "height": 287
        }
      },
      "source": [
        "X, Y = sklearn.datasets.make_circles(n_samples=100, shuffle=True, noise=0.2, random_state=None, factor=0.35)\n",
        "plt.plot(X[Y==0, 0], X[Y==0, 1], 'o')\n",
        "plt.plot(X[Y==1, 0], X[Y==1, 1], 'o')"
      ],
      "execution_count": 2,
      "outputs": [
        {
          "output_type": "execute_result",
          "data": {
            "text/plain": [
              "[<matplotlib.lines.Line2D at 0x7f74564ec6d8>]"
            ]
          },
          "metadata": {
            "tags": []
          },
          "execution_count": 2
        },
        {
          "output_type": "display_data",
          "data": {
            "image/png": "[encoded data removed]",
            "text/plain": [
              "<Figure size 432x288 with 1 Axes>"
            ]
          },
          "metadata": {
            "tags": []
          }
        }
      ]
    },
    {
      "cell_type": "code",
      "metadata": {
        "id": "LJLvkynMTtSR",
        "colab_type": "code",
        "colab": {}
      },
      "source": [
        "class Network(nn.Module):\n",
        "  def __init__(self, in_features, hidden, out_features):\n",
        "    super().__init__()\n",
        "    self.linear1 = nn.Linear(in_features, hidden)\n",
        "    self.linear2 = nn.Linear(hidden, out_features)\n",
        "  \n",
        "  def forward(self, x):\n",
        "    pred = torch.sigmoid(self.linear1(x))\n",
        "    pred = torch.sigmoid(self.linear2(pred))\n",
        "    return pred"
      ],
      "execution_count": 0,
      "outputs": []
    },
    {
      "cell_type": "code",
      "metadata": {
        "id": "TsH49AxkUNpO",
        "colab_type": "code",
        "colab": {}
      },
      "source": [
        "model = Network(2, 15, 1)\n",
        "criterion = nn.BCELoss()\n",
        "optimizer = torch.optim.Adam(model.parameters(), lr=0.01)"
      ],
      "execution_count": 0,
      "outputs": []
    },
    {
      "cell_type": "code",
      "metadata": {
        "id": "RIDGwa8FUdbC",
        "colab_type": "code",
        "colab": {}
      },
      "source": [
        "epochs = 1000\n",
        "X = torch.Tensor(X)\n",
        "Y = torch.Tensor(Y)\n",
        "for epoch in range(epochs):\n",
        "  y = model.forward(X)\n",
        "  loss = criterion(y, Y)\n",
        "  print(epoch, loss.item())\n",
        "  optimizer.zero_grad()\n",
        "  loss.backward()\n",
        "  optimizer.step()"
      ],
      "execution_count": 0,
      "outputs": []
    },
    {
      "cell_type": "code",
      "metadata": {
        "id": "JyoAbRGEU3ek",
        "colab_type": "code",
        "outputId": "13780aeb-07ff-4bf8-cb02-cc593b865279",
        "colab": {
          "base_uri": "https://localhost:8080/",
          "height": 269
        }
      },
      "source": [
        "def plot_area(X, Y):\n",
        "  plt.plot(X[Y==0, 0].numpy(), X[Y==0, 1].numpy(), 'o')\n",
        "  plt.plot(X[Y==1, 0].numpy(), X[Y==1, 1].numpy(), 'o')\n",
        "  x = np.linspace(min(X[:, 0]) - 0.1, max(X[:, 0]) + 0.1)\n",
        "  y = np.linspace(min(X[:, 1]) - 0.1, max(X[:, 1]) + 0.1)\n",
        "  xx, yy = np.meshgrid(x, y)\n",
        "  grid = torch.Tensor(np.c_[xx.ravel(), yy.ravel()])\n",
        "  pred = model.forward(grid)\n",
        "  z = pred.view(xx.shape).detach().numpy()\n",
        "  plt.contourf(xx, yy, z)\n",
        "plot_area(X, Y)"
      ],
      "execution_count": 7,
      "outputs": [
        {
          "output_type": "display_data",
          "data": {
            "image/png": "[encoded data removed]",
            "text/plain": [
              "<Figure size 432x288 with 1 Axes>"
            ]
          },
          "metadata": {
            "tags": []
          }
        }
      ]
    }
  ]
}