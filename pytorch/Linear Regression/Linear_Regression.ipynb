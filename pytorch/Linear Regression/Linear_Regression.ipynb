{
  "nbformat": 4,
  "nbformat_minor": 0,
  "metadata": {
    "colab": {
      "name": "Linear Regression.ipynb",
      "version": "0.3.2",
      "provenance": [],
      "collapsed_sections": []
    },
    "kernelspec": {
      "name": "python3",
      "display_name": "Python 3"
    }
  },
  "cells": [
    {
      "cell_type": "code",
      "metadata": {
        "id": "b7ts8XpzNPhq",
        "colab_type": "code",
        "colab": {}
      },
      "source": [
        "import torch\n",
        "import torch.nn as nn\n",
        "import numpy as np\n",
        "import matplotlib.pyplot as plt"
      ],
      "execution_count": 0,
      "outputs": []
    },
    {
      "cell_type": "code",
      "metadata": {
        "id": "PAucfO3hNt72",
        "colab_type": "code",
        "outputId": "2fcef34c-35af-42ab-b7d6-4d50bc202d5b",
        "colab": {
          "base_uri": "https://localhost:8080/",
          "height": 288
        }
      },
      "source": [
        "X = torch.randn(100, 1) * 2\n",
        "Y = X + torch.randn(100, 1) * 3\n",
        "plt.plot(X.numpy(), Y.numpy(), 'o')"
      ],
      "execution_count": 0,
      "outputs": [
        {
          "output_type": "execute_result",
          "data": {
            "text/plain": [
              "[<matplotlib.lines.Line2D at 0x7f6b478f4f60>]"
            ]
          },
          "metadata": {
            "tags": []
          },
          "execution_count": 61
        },
        {
          "output_type": "display_data",
          "data": {
            "image/png": "[encoded data removed]",
            "text/plain": [
              "<Figure size 432x288 with 1 Axes>"
            ]
          },
          "metadata": {
            "tags": []
          }
        }
      ]
    },
    {
      "cell_type": "code",
      "metadata": {
        "id": "y4KMcnbgPRej",
        "colab_type": "code",
        "colab": {}
      },
      "source": [
        "class Regression(nn.Module):\n",
        "  def __init__(self):\n",
        "    super(Regression, self).__init__()\n",
        "    self.linear = nn.Linear(in_features=1, out_features=1)\n",
        "    \n",
        "  def forward(self, input):\n",
        "    y = self.linear(input)\n",
        "    return y"
      ],
      "execution_count": 0,
      "outputs": []
    },
    {
      "cell_type": "code",
      "metadata": {
        "id": "jHwJOUZzQ4Ei",
        "colab_type": "code",
        "outputId": "4b38e326-3ad8-4647-c18a-2e7f320020c2",
        "colab": {
          "base_uri": "https://localhost:8080/",
          "height": 1000
        }
      },
      "source": [
        "model = Regression()\n",
        "criterion = nn.MSELoss()\n",
        "optimizer = torch.optim.SGD(model.parameters(), lr=0.02)\n",
        "epochs = 100\n",
        "for i in range(epochs):\n",
        "  y = model.forward(X)\n",
        "  loss = criterion(y, Y)\n",
        "  print(i, loss.item())\n",
        "  optimizer.zero_grad()\n",
        "  loss.backward()\n",
        "  optimizer.step()\n",
        "    "
      ],
      "execution_count": 0,
      "outputs": [
        {
          "output_type": "stream",
          "text": [
            "0 8.944438934326172\n",
            "1 8.66014289855957\n",
            "2 8.45661449432373\n",
            "3 8.309404373168945\n",
            "4 8.201592445373535\n",
            "5 8.121460914611816\n",
            "6 8.060881614685059\n",
            "7 8.01421070098877\n",
            "8 7.977519512176514\n",
            "9 7.948067665100098\n",
            "10 7.923935890197754\n",
            "11 7.903773784637451\n",
            "12 7.886626243591309\n",
            "13 7.871812343597412\n",
            "14 7.858842849731445\n",
            "15 7.847361087799072\n",
            "16 7.837104320526123\n",
            "17 7.82787561416626\n",
            "18 7.819525241851807\n",
            "19 7.811935901641846\n",
            "20 7.8050150871276855\n",
            "21 7.798686981201172\n",
            "22 7.7928900718688965\n",
            "23 7.787571907043457\n",
            "24 7.782686710357666\n",
            "25 7.778195381164551\n",
            "26 7.774064064025879\n",
            "27 7.770262241363525\n",
            "28 7.766761779785156\n",
            "29 7.763538360595703\n",
            "30 7.760569095611572\n",
            "31 7.757833480834961\n",
            "32 7.755312919616699\n",
            "33 7.75299072265625\n",
            "34 7.750850677490234\n",
            "35 7.748878479003906\n",
            "36 7.747061252593994\n",
            "37 7.745386123657227\n",
            "38 7.743842601776123\n",
            "39 7.742419719696045\n",
            "40 7.741108417510986\n",
            "41 7.7399001121521\n",
            "42 7.738786220550537\n",
            "43 7.737759590148926\n",
            "44 7.736813545227051\n",
            "45 7.7359418869018555\n",
            "46 7.735137939453125\n",
            "47 7.734396934509277\n",
            "48 7.733714580535889\n",
            "49 7.7330851554870605\n",
            "50 7.732504844665527\n",
            "51 7.73197078704834\n",
            "52 7.731478214263916\n",
            "53 7.731023788452148\n",
            "54 7.730605602264404\n",
            "55 7.730219841003418\n",
            "56 7.729864120483398\n",
            "57 7.729536533355713\n",
            "58 7.72923469543457\n",
            "59 7.72895622253418\n",
            "60 7.728699684143066\n",
            "61 7.728463172912598\n",
            "62 7.728245258331299\n",
            "63 7.728044509887695\n",
            "64 7.7278594970703125\n",
            "65 7.727688789367676\n",
            "66 7.727531433105469\n",
            "67 7.727386474609375\n",
            "68 7.727252960205078\n",
            "69 7.727129936218262\n",
            "70 7.727015972137451\n",
            "71 7.726911544799805\n",
            "72 7.726815223693848\n",
            "73 7.726726531982422\n",
            "74 7.726644515991211\n",
            "75 7.726569175720215\n",
            "76 7.726499557495117\n",
            "77 7.72643518447876\n",
            "78 7.726376056671143\n",
            "79 7.726321697235107\n",
            "80 7.726271629333496\n",
            "81 7.72622537612915\n",
            "82 7.726182460784912\n",
            "83 7.726143836975098\n",
            "84 7.726107120513916\n",
            "85 7.726073741912842\n",
            "86 7.726042747497559\n",
            "87 7.726014614105225\n",
            "88 7.725988388061523\n",
            "89 7.725964546203613\n",
            "90 7.725942134857178\n",
            "91 7.725921630859375\n",
            "92 7.725903034210205\n",
            "93 7.72588586807251\n",
            "94 7.725869655609131\n",
            "95 7.725854873657227\n",
            "96 7.725841045379639\n",
            "97 7.725828647613525\n",
            "98 7.72581672668457\n",
            "99 7.72580623626709\n"
          ],
          "name": "stdout"
        }
      ]
    },
    {
      "cell_type": "code",
      "metadata": {
        "id": "VU-HQkJ9SvtW",
        "colab_type": "code",
        "outputId": "b9a34069-1774-4074-d42a-17cd2a961cff",
        "colab": {
          "base_uri": "https://localhost:8080/",
          "height": 288
        }
      },
      "source": [
        "a, b = map(float, list(model.parameters())) \n",
        "plt.plot(X.numpy(), Y.numpy(), 'o')\n",
        "def plot_line(a, b):\n",
        "  x = np.array([min(X) - 1, max(X) + 1])\n",
        "  y = a * x + b\n",
        "  plt.plot(x, y, 'r')\n",
        "plot_line(a, b)\n",
        "print(\"{}x + {}\".format(a, b))"
      ],
      "execution_count": 0,
      "outputs": [
        {
          "output_type": "stream",
          "text": [
            "1.020172119140625x + 0.2992739677429199\n"
          ],
          "name": "stdout"
        },
        {
          "output_type": "display_data",
          "data": {
            "image/png": "[encoded data removed]",
            "text/plain": [
              "<Figure size 432x288 with 1 Axes>"
            ]
          },
          "metadata": {
            "tags": []
          }
        }
      ]
    }
  ]
}